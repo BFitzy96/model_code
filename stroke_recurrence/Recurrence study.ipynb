{
 "cells": [
  {
   "cell_type": "code",
   "execution_count": 1,
   "id": "78a0a540",
   "metadata": {},
   "outputs": [],
   "source": [
    "import pandas as pd\n",
    "import numpy as np\n",
    "import sklearn\n",
    "import matplotlib.pyplot as plt\n",
    "import matplotlib\n",
    "import tensorflow as tf\n",
    "import tensorflow.keras\n",
    "import random\n",
    "from scipy.stats import norm \n",
    "import seaborn as sns\n",
    "import math as m"
   ]
  },
  {
   "cell_type": "code",
   "execution_count": 2,
   "id": "094456d3",
   "metadata": {},
   "outputs": [],
   "source": [
    "df = pd.read_csv('./stroke_recurr.csv', na_values='unknown')"
   ]
  },
  {
   "cell_type": "code",
   "execution_count": 3,
   "id": "882a99ee",
   "metadata": {},
   "outputs": [],
   "source": [
    "df.dropna(axis=1, thresh=(0.2*len(df)), inplace=True)"
   ]
  },
  {
   "cell_type": "code",
   "execution_count": 4,
   "id": "0f5e80b4",
   "metadata": {},
   "outputs": [
    {
     "data": {
      "text/plain": [
       "Index(['id', 'Age', 'Ethnic group', 'Sex', 'Occupation',\n",
       "       'Alternate phone number.1', 'Date of recover',\n",
       "       'Date of hospitalization', 'Area of residence', 'Marriage status',\n",
       "       'Education level', 'Stroke history in familty', 'TIA',\n",
       "       'No of Stroke/TIA', 'Alcohol', 'Myocardial Infarction',\n",
       "       'Physical exercise', 'Poor diet (salty, fatty food)', 'Smoking',\n",
       "       'History-Hypertension', 'History-Diabetes', 'Setting of stroke',\n",
       "       'Paralysis', 'Incontinence', 'Systolic BP at hospitalization',\n",
       "       'Diastolic BP at hospitalization', 'Systolic HBP', 'Diastolic HBP',\n",
       "       'Diabetes', 'Heart failure', 'Benh than man',\n",
       "       'Glasgow at Hospitalization', 'Rankin', 'ESSEN:', 'SPI-II:',\n",
       "       'Neutrophil', 'Hct (%)', 'Platelet', 'Glycemia', 'hba1c',\n",
       "       'Fibrinogen (g/l):', 'hs-CRP (mg/l):', 'Dyslipidemia',\n",
       "       'Cholestorl total', 'Triglyceride', 'HDL-C', 'LDL-C',\n",
       "       'Atrial fibrillation', 'Mitral stenosis', 'Ventricular hypertropy',\n",
       "       'clot in ventricular chamber', 'Carotid stenosis 50% ',\n",
       "       'Carotid stenosis 70% ', 'Type of stroke', 'Cause of stroke TOAST:',\n",
       "       'Affected artery', 'Number of infarct loci', 'Treatment',\n",
       "       'Secondary prevention', 'Anti Platelet', 'statins',\n",
       "       'Depression after stroke', 'Compliance', 'Date of stroke recurrence',\n",
       "       'Hospitalize due to recurrence', 'Time after index stroke',\n",
       "       'type of stroke', 'Number of recurrence', 'Death', 'Time of follow-up',\n",
       "       'Outcome'],\n",
       "      dtype='object')"
      ]
     },
     "execution_count": 4,
     "metadata": {},
     "output_type": "execute_result"
    }
   ],
   "source": [
    "df.columns"
   ]
  },
  {
   "cell_type": "code",
   "execution_count": 5,
   "id": "61189186",
   "metadata": {},
   "outputs": [],
   "source": [
    "df = df[['Age', 'Stroke history in familty', 'TIA', 'No of Stroke/TIA', 'Alcohol',\n",
    "       'Myocardial Infarction', 'Physical exercise',\n",
    "       'Poor diet (salty, fatty food)', 'Smoking', 'History-Hypertension',\n",
    "       'History-Diabetes', 'Diabetes', 'Heart failure', 'Glasgow at Hospitalization', 'Rankin', 'Neutrophil', 'Hct (%)', 'Platelet', 'Glycemia',\n",
    "       'Fibrinogen (g/l):', 'hs-CRP (mg/l):', 'Dyslipidemia',\n",
    "       'Cholestorl total', 'Triglyceride', 'HDL-C', 'LDL-C',\n",
    "       'Atrial fibrillation', 'Death', 'Date of stroke recurrence']]\n",
    "#, 'Depression after stroke'"
   ]
  },
  {
   "cell_type": "code",
   "execution_count": 6,
   "id": "032628ae",
   "metadata": {},
   "outputs": [],
   "source": [
    "features = df.iloc[:,:28]\n",
    "target = df.iloc[:,28:]"
   ]
  },
  {
   "cell_type": "code",
   "execution_count": 7,
   "id": "328189de",
   "metadata": {},
   "outputs": [
    {
     "name": "stderr",
     "output_type": "stream",
     "text": [
      "/tmp/ipykernel_12655/730157244.py:1: SettingWithCopyWarning: \n",
      "A value is trying to be set on a copy of a slice from a DataFrame\n",
      "\n",
      "See the caveats in the documentation: https://pandas.pydata.org/pandas-docs/stable/user_guide/indexing.html#returning-a-view-versus-a-copy\n",
      "  target.fillna(0, inplace=True)\n",
      "/tmp/ipykernel_12655/730157244.py:5: SettingWithCopyWarning: \n",
      "A value is trying to be set on a copy of a slice from a DataFrame\n",
      "\n",
      "See the caveats in the documentation: https://pandas.pydata.org/pandas-docs/stable/user_guide/indexing.html#returning-a-view-versus-a-copy\n",
      "  target.iloc[i, j] = 1\n"
     ]
    }
   ],
   "source": [
    "target.fillna(0, inplace=True)\n",
    "for i in range(len(target)):\n",
    "    for j in range(len(target.columns)):\n",
    "        if target.iloc[i, j] != 0:\n",
    "            target.iloc[i, j] = 1"
   ]
  },
  {
   "cell_type": "code",
   "execution_count": 8,
   "id": "a731b63b",
   "metadata": {},
   "outputs": [],
   "source": [
    "features.fillna(2, inplace=True)"
   ]
  },
  {
   "cell_type": "code",
   "execution_count": 9,
   "id": "f1b3669b",
   "metadata": {},
   "outputs": [],
   "source": [
    "from sklearn.preprocessing import MinMaxScaler\n",
    "scaler = MinMaxScaler()\n",
    "features[['Age', 'Fibrinogen (g/l):', 'hs-CRP (mg/l):', 'Cholestorl total', 'Triglyceride', 'HDL-C', 'LDL-C']] = scaler.fit_transform(features[['Age', 'Fibrinogen (g/l):', 'hs-CRP (mg/l):', 'Cholestorl total', 'Triglyceride', 'HDL-C', 'LDL-C']])"
   ]
  },
  {
   "cell_type": "code",
   "execution_count": 10,
   "id": "28d02da7",
   "metadata": {},
   "outputs": [],
   "source": [
    "target=target.astype('int')"
   ]
  },
  {
   "cell_type": "code",
   "execution_count": 11,
   "id": "1da3a889",
   "metadata": {},
   "outputs": [],
   "source": [
    "from sklearn import model_selection\n",
    "train_data, test_data, train_label, test_label = model_selection.train_test_split(features, \n",
    "                                                                                  target,\n",
    "                                                                                  test_size=0.2,\n",
    "                                                                                  shuffle=True)"
   ]
  },
  {
   "cell_type": "code",
   "execution_count": 12,
   "id": "663be4db",
   "metadata": {},
   "outputs": [
    {
     "name": "stderr",
     "output_type": "stream",
     "text": [
      "/home/brugha/tfvenv/lib/python3.10/site-packages/sklearn/utils/validation.py:1111: DataConversionWarning: A column-vector y was passed when a 1d array was expected. Please change the shape of y to (n_samples, ), for example using ravel().\n",
      "  y = column_or_1d(y, warn=True)\n"
     ]
    },
    {
     "data": {
      "text/plain": [
       "0.008453845977783203"
      ]
     },
     "execution_count": 12,
     "metadata": {},
     "output_type": "execute_result"
    }
   ],
   "source": [
    "from sklearn.svm import SVC\n",
    "import time\n",
    "timer = time.time()\n",
    "model = SVC()\n",
    "model = model.fit(train_data, train_label)\n",
    "time.time() - timer"
   ]
  },
  {
   "cell_type": "code",
   "execution_count": 14,
   "id": "5b428719",
   "metadata": {},
   "outputs": [],
   "source": [
    "preds = model.predict(test_data)"
   ]
  },
  {
   "cell_type": "code",
   "execution_count": 15,
   "id": "3fb7bfd8",
   "metadata": {},
   "outputs": [
    {
     "name": "stdout",
     "output_type": "stream",
     "text": [
      "82.71604938271605\n"
     ]
    }
   ],
   "source": [
    "from sklearn.metrics import accuracy_score, confusion_matrix\n",
    "accuracy = accuracy_score(test_label, preds)\n",
    "print(accuracy*100)"
   ]
  },
  {
   "cell_type": "code",
   "execution_count": 17,
   "id": "9811fa31",
   "metadata": {},
   "outputs": [
    {
     "name": "stdout",
     "output_type": "stream",
     "text": [
      "[0 0 0 0 0 0 0 0 0 0 0 0 0 0 0 0 0 0 0 0 0 0 0 0 0 0 0 0 0 0 0 0 0 0 0 0 0\n",
      " 0 0 0 0 0 0 0 0 0 0 0 0 0 0 0 0 0 0 0 0 0 0 0 0 0 0 0 0 0 0 0 0 0 0 0 0 0\n",
      " 0 0 0 0 0 0 0] [[0]\n",
      " [0]\n",
      " [1]\n",
      " [0]\n",
      " [0]\n",
      " [0]\n",
      " [0]\n",
      " [0]\n",
      " [1]\n",
      " [0]\n",
      " [0]\n",
      " [0]\n",
      " [1]\n",
      " [0]\n",
      " [0]\n",
      " [0]\n",
      " [0]\n",
      " [0]\n",
      " [0]\n",
      " [0]\n",
      " [0]\n",
      " [0]\n",
      " [0]\n",
      " [0]\n",
      " [0]\n",
      " [0]\n",
      " [0]\n",
      " [0]\n",
      " [0]\n",
      " [0]\n",
      " [0]\n",
      " [0]\n",
      " [0]\n",
      " [0]\n",
      " [0]\n",
      " [1]\n",
      " [0]\n",
      " [0]\n",
      " [0]\n",
      " [1]\n",
      " [0]\n",
      " [0]\n",
      " [0]\n",
      " [1]\n",
      " [0]\n",
      " [0]\n",
      " [1]\n",
      " [0]\n",
      " [0]\n",
      " [0]\n",
      " [0]\n",
      " [0]\n",
      " [0]\n",
      " [0]\n",
      " [0]\n",
      " [1]\n",
      " [0]\n",
      " [0]\n",
      " [0]\n",
      " [0]\n",
      " [0]\n",
      " [0]\n",
      " [1]\n",
      " [1]\n",
      " [0]\n",
      " [0]\n",
      " [0]\n",
      " [0]\n",
      " [0]\n",
      " [0]\n",
      " [0]\n",
      " [0]\n",
      " [0]\n",
      " [1]\n",
      " [0]\n",
      " [1]\n",
      " [0]\n",
      " [0]\n",
      " [0]\n",
      " [1]\n",
      " [1]]\n"
     ]
    }
   ],
   "source": [
    "print(preds, np.array(test_label))"
   ]
  },
  {
   "cell_type": "code",
   "execution_count": null,
   "id": "438c10fb",
   "metadata": {},
   "outputs": [],
   "source": []
  }
 ],
 "metadata": {
  "kernelspec": {
   "display_name": "tfvenv",
   "language": "python",
   "name": "tfvenv"
  },
  "language_info": {
   "codemirror_mode": {
    "name": "ipython",
    "version": 3
   },
   "file_extension": ".py",
   "mimetype": "text/x-python",
   "name": "python",
   "nbconvert_exporter": "python",
   "pygments_lexer": "ipython3",
   "version": "3.10.4"
  }
 },
 "nbformat": 4,
 "nbformat_minor": 5
}
