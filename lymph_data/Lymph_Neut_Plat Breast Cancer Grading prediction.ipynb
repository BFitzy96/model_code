{
 "cells": [
  {
   "cell_type": "code",
   "execution_count": 1,
   "id": "423077f5",
   "metadata": {},
   "outputs": [],
   "source": [
    "import pandas as pd\n",
    "import numpy as np\n",
    "import sklearn\n",
    "import matplotlib.pyplot as plt\n",
    "import matplotlib\n",
    "import tensorflow as tf\n",
    "import tensorflow.keras\n",
    "import random\n",
    "from scipy.stats import norm\n",
    "import seaborn as sns\n",
    "import math as m"
   ]
  },
  {
   "cell_type": "code",
   "execution_count": 4,
   "id": "e9bc6588",
   "metadata": {},
   "outputs": [],
   "source": [
    "df = pd.read_csv('./zenodo_5727576.csv')\n",
    "df.drop(columns=['pN', 'N+'], inplace=True)"
   ]
  },
  {
   "cell_type": "code",
   "execution_count": 3,
   "id": "682390b1",
   "metadata": {},
   "outputs": [],
   "source": [
    "target = df['Grading']\n",
    "df.drop(columns=['Grading'], inplace=True)"
   ]
  },
  {
   "cell_type": "code",
   "execution_count": 4,
   "id": "0c66504b",
   "metadata": {},
   "outputs": [],
   "source": [
    "from sklearn.preprocessing import MinMaxScaler\n",
    "scaler = MinMaxScaler()\n",
    "df.iloc[:,0:4] = scaler.fit_transform(df.iloc[:,0:4])"
   ]
  },
  {
   "cell_type": "code",
   "execution_count": 5,
   "id": "7a55da44",
   "metadata": {},
   "outputs": [],
   "source": [
    "from sklearn import model_selection\n",
    "train_data, test_data, train_label, test_label = model_selection.train_test_split(df, \n",
    "                                                                                  target,\n",
    "                                                                                  test_size=0.3,\n",
    "                                                                                  shuffle=True)"
   ]
  },
  {
   "cell_type": "code",
   "execution_count": 6,
   "id": "a18d4a10",
   "metadata": {
    "scrolled": true
   },
   "outputs": [],
   "source": [
    "from sklearn.ensemble import GradientBoostingRegressor\n",
    "gbr = GradientBoostingRegressor(loss='absolute_error')\n",
    "gbr = gbr.fit(train_data, train_label)\n",
    "gbr_pred = gbr.predict(test_data)"
   ]
  },
  {
   "cell_type": "code",
   "execution_count": 7,
   "id": "f16ca967",
   "metadata": {},
   "outputs": [
    {
     "data": {
      "text/plain": [
       "'51.52%'"
      ]
     },
     "execution_count": 7,
     "metadata": {},
     "output_type": "execute_result"
    }
   ],
   "source": [
    "from sklearn.metrics import accuracy_score\n",
    "gbr_acc = accuracy_score(test_label, gbr_pred)\n",
    "gbr_acc *= 100\n",
    "str(np.round(gbr_acc,2)) + '%'"
   ]
  },
  {
   "cell_type": "code",
   "execution_count": 8,
   "id": "166e4068",
   "metadata": {},
   "outputs": [],
   "source": [
    "test_label = np.array(test_label)"
   ]
  },
  {
   "cell_type": "code",
   "execution_count": 9,
   "id": "a18ddbee",
   "metadata": {},
   "outputs": [
    {
     "name": "stdout",
     "output_type": "stream",
     "text": [
      "17 16\n"
     ]
    }
   ],
   "source": [
    "corr = 0\n",
    "incorr = 0\n",
    "for i in range(len(test_label)):\n",
    "    if test_label[i] == gbr_pred[i]:\n",
    "        corr += 1\n",
    "    else:\n",
    "        incorr += 1\n",
    "print(corr, incorr)"
   ]
  },
  {
   "cell_type": "code",
   "execution_count": 10,
   "id": "dca6c05b",
   "metadata": {},
   "outputs": [
    {
     "data": {
      "image/png": "[encoded data removed]",
      "text/plain": [
       "<Figure size 432x288 with 1 Axes>"
      ]
     },
     "metadata": {
      "needs_background": "light"
     },
     "output_type": "display_data"
    }
   ],
   "source": [
    "linespace = 'Grading'\n",
    "for i in range(len(test_label)):\n",
    "    plt.ylim(0, 3.5)\n",
    "    plt.plot(linespace, test_label[i], 'ro')\n",
    "    plt.plot(linespace, int(gbr_pred[i]), 'bo')\n",
    "    plt.savefig(f'Grading prediction vs actual case {i}')"
   ]
  },
  {
   "cell_type": "code",
   "execution_count": 11,
   "id": "b37f48f6",
   "metadata": {},
   "outputs": [
    {
     "data": {
      "text/plain": [
       "3"
      ]
     },
     "execution_count": 11,
     "metadata": {},
     "output_type": "execute_result"
    }
   ],
   "source": [
    "int(gbr_pred[0])"
   ]
  },
  {
   "cell_type": "code",
   "execution_count": 12,
   "id": "e56138c8",
   "metadata": {},
   "outputs": [],
   "source": [
    "from sklearn.linear_model import BayesianRidge\n",
    "bayes = BayesianRidge()\n",
    "bayes = bayes.fit(train_data, train_label)"
   ]
  },
  {
   "cell_type": "code",
   "execution_count": 13,
   "id": "6736aa1e",
   "metadata": {},
   "outputs": [],
   "source": [
    "bayes_pred = bayes.predict(test_data)"
   ]
  },
  {
   "cell_type": "code",
   "execution_count": 14,
   "id": "0e846ec1",
   "metadata": {},
   "outputs": [
    {
     "data": {
      "text/plain": [
       "51.515151515151516"
      ]
     },
     "execution_count": 14,
     "metadata": {},
     "output_type": "execute_result"
    }
   ],
   "source": [
    "from sklearn.metrics import accuracy_score\n",
    "bayes_acc = accuracy_score(test_label, np.round(bayes_pred))\n",
    "bayes_acc *= 100\n",
    "bayes_acc"
   ]
  }
 ],
 "metadata": {
  "kernelspec": {
   "display_name": "tfvenv",
   "language": "python",
   "name": "tfvenv"
  },
  "language_info": {
   "codemirror_mode": {
    "name": "ipython",
    "version": 3
   },
   "file_extension": ".py",
   "mimetype": "text/x-python",
   "name": "python",
   "nbconvert_exporter": "python",
   "pygments_lexer": "ipython3",
   "version": "3.10.4"
  }
 },
 "nbformat": 4,
 "nbformat_minor": 5
}
